{
 "cells": [
  {
   "cell_type": "code",
   "execution_count": null,
   "metadata": {},
   "outputs": [],
   "source": [
    "import numpy as np\n",
    "from cluster_algorithms import base_kmeans\n",
    "import matplotlib.pyplot as plt\n",
    "\n",
    "from sklearn.model_selection import train_test_split\n",
    "from scipy.spatial import Voronoi, voronoi_plot_2d\n",
    "import time"
   ]
  },
  {
   "cell_type": "code",
   "execution_count": null,
   "metadata": {},
   "outputs": [],
   "source": [
    "data_files_path = '../data_files/data17_13TeV.AllPeriods.sgn.probes_lhmedium_EGAM2.bkg.VProbes_EGAM7.GRL_v97/'\n",
    "file_name       = 'data17_13TeV.AllPeriods.sgn.probes_lhmedium_EGAM2.bkg.VProbes_EGAM7.GRL_v97_et0_eta0.npz'\n",
    "\n",
    "plots_path      = '../clustering_plot/'\n",
    "my_seed         = 13"
   ]
  },
  {
   "cell_type": "code",
   "execution_count": null,
   "metadata": {},
   "outputs": [],
   "source": [
    "jpsi_data = dict(np.load(data_files_path+file_name))\n",
    "jpsi_data.keys()"
   ]
  },
  {
   "cell_type": "code",
   "execution_count": null,
   "metadata": {},
   "outputs": [],
   "source": [
    "list_of_features = list(jpsi_data['features'])\n",
    "print(list_of_features)"
   ]
  },
  {
   "cell_type": "code",
   "execution_count": null,
   "metadata": {},
   "outputs": [],
   "source": [
    "var_indexes = [list_of_features.index('avgmu'),\n",
    "               list_of_features.index('L2Calo_et'),]"
   ]
  },
  {
   "cell_type": "code",
   "execution_count": null,
   "metadata": {},
   "outputs": [],
   "source": [
    "data_      = jpsi_data['data'][:, var_indexes]\n",
    "my_filter  = (data_[:,0] <= 80)\n",
    "sgn_filter = jpsi_data['target'][my_filter]==1\n",
    "bkg_filter = jpsi_data['target'][my_filter]==0\n",
    "data_      = data_[my_filter,:]\n",
    "print(data_.shape)"
   ]
  },
  {
   "cell_type": "code",
   "execution_count": null,
   "metadata": {},
   "outputs": [],
   "source": [
    "sgn_choices_filter = np.random.choice(data_[sgn_filter].shape[0], size=400)\n",
    "bkg_choices_filter = np.random.choice(data_[bkg_filter].shape[0], size=400)\n",
    "choices_filter     = np.concatenate((sgn_choices_filter,bkg_choices_filter))"
   ]
  },
  {
   "cell_type": "code",
   "execution_count": null,
   "metadata": {},
   "outputs": [],
   "source": [
    "data_ = data_[choices_filter]\n",
    "y     = jpsi_data['target'][choices_filter]\n",
    "print(data_.shape)"
   ]
  },
  {
   "cell_type": "code",
   "execution_count": null,
   "metadata": {},
   "outputs": [],
   "source": [
    "GeV = 1e3\n",
    "epsilon = 1e-2"
   ]
  },
  {
   "cell_type": "code",
   "execution_count": null,
   "metadata": {},
   "outputs": [],
   "source": [
    "data_[:, 1] = data_[:, 1]/GeV\n",
    "data_[data_[:,0] == 0, 0] = data_[data_[:,0] == 0, 0] + epsilon"
   ]
  },
  {
   "cell_type": "code",
   "execution_count": null,
   "metadata": {},
   "outputs": [],
   "source": [
    "kmeans = base_kmeans(n_clusters=5, seed=13)"
   ]
  },
  {
   "cell_type": "code",
   "execution_count": null,
   "metadata": {},
   "outputs": [],
   "source": [
    "%%time\n",
    "kmeans.fit(data_, n_iter=50, tol=1e-5, breg_div='euclidean')"
   ]
  },
  {
   "cell_type": "code",
   "execution_count": null,
   "metadata": {},
   "outputs": [],
   "source": [
    "kmeans.get_sum_total_div()"
   ]
  },
  {
   "cell_type": "code",
   "execution_count": null,
   "metadata": {},
   "outputs": [],
   "source": [
    "plt.figure(figsize=(10,8))\n",
    "plt.plot(range(kmeans.get_last_iter()), kmeans.get_sum_total_div(), '--o', c='g')\n",
    "plt.title('Total sum of the divergences', fontsize=15)\n",
    "plt.ylabel(r'$D_{\\phi}[C: D]$', fontsize=13)\n",
    "plt.xlabel(r'Iteractions', fontsize=13)\n",
    "plt.grid()\n",
    "plt.show()"
   ]
  },
  {
   "cell_type": "code",
   "execution_count": null,
   "metadata": {},
   "outputs": [],
   "source": [
    "plt.figure(figsize=(10,8))\n",
    "# Draw data using target to colorize them\n",
    "plt.plot(data_[:,0], data_[:,1], 'o', label='Data Points')\n",
    "plt.plot(kmeans.get_first_centroids()[:,0], kmeans.get_first_centroids()[:,1], '*',\n",
    "         markersize=10, label='Initial Centroids')\n",
    "plt.plot(kmeans.get_centroids()[:,0], kmeans.get_centroids()[:,1], '^',\n",
    "         markersize=10, label='Final Centroids')\n",
    "plt.legend(loc='best', fontsize='x-large')\n",
    "plt.xlabel(r'$\\langle\\mu\\rangle$', fontsize=13)\n",
    "plt.ylabel(r'$E_T$', fontsize=13)\n",
    "plt.show()"
   ]
  },
  {
   "cell_type": "code",
   "execution_count": null,
   "metadata": {},
   "outputs": [],
   "source": [
    "centers = kmeans.get_centroids()\n",
    "# Get the Voronoi diagrams\n",
    "vor = Voronoi(centers)"
   ]
  },
  {
   "cell_type": "code",
   "execution_count": null,
   "metadata": {},
   "outputs": [],
   "source": [
    "ax_lim = [np.min(data_, axis=0), np.max(data_, axis=0)]"
   ]
  },
  {
   "cell_type": "code",
   "execution_count": null,
   "metadata": {},
   "outputs": [],
   "source": [
    "fig, axes = plt.subplots(1, 1, figsize=(10,8))\n",
    "# Draw data using target to colorize them\n",
    "axes.scatter(data_[:, 0], data_[:, 1], c=y, cmap='Set1',\n",
    "             edgecolor='k', s=50, alpha=.95)\n",
    "# Draw the centroids\n",
    "axes.plot(centers[:,0], centers[:,1], '^', c='black', markersize=15, label='Final Centroids')\n",
    "# Draw voronoi\n",
    "voronoi_plot_2d(vor, ax=axes, show_vertices=True)\n",
    "plt.grid()\n",
    "plt.legend(loc='best', fontsize='x-large')\n",
    "plt.xlim([ax_lim[0][0], ax_lim[1][0]])\n",
    "plt.ylim([ax_lim[0][1], ax_lim[1][1]])\n",
    "plt.xlabel(r'$\\langle\\mu\\rangle$', fontsize=13)\n",
    "plt.ylabel(r'$E_T$', fontsize=13)\n",
    "plt.show()"
   ]
  },
  {
   "cell_type": "code",
   "execution_count": null,
   "metadata": {},
   "outputs": [],
   "source": []
  }
 ],
 "metadata": {
  "kernelspec": {
   "display_name": "Python 3",
   "language": "python",
   "name": "python3"
  },
  "language_info": {
   "codemirror_mode": {
    "name": "ipython",
    "version": 3
   },
   "file_extension": ".py",
   "mimetype": "text/x-python",
   "name": "python",
   "nbconvert_exporter": "python",
   "pygments_lexer": "ipython3",
   "version": "3.7.3"
  }
 },
 "nbformat": 4,
 "nbformat_minor": 4
}

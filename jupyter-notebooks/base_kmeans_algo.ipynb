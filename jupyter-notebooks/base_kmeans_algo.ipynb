{
 "cells": [
  {
   "cell_type": "markdown",
   "metadata": {},
   "source": [
    "# K-means base algo\n",
    "\n",
    "author: Micael Veríssimo de Araújo (micael.verissimo@lps.ufrj.br)"
   ]
  },
  {
   "cell_type": "code",
   "execution_count": 32,
   "metadata": {},
   "outputs": [],
   "source": [
    "import numpy as np\n",
    "from scipy.spatial import distance\n",
    "import matplotlib.pyplot as plt \n",
    "\n",
    "np.random.seed(20)\n",
    "\n",
    "class base_kmeans(object):\n",
    "    def __init__(self, n_clusters, seed=13):\n",
    "        self.seed       = seed\n",
    "        self.n_clusters = n_clusters\n",
    "\n",
    "        np.random.seed(self.seed)\n",
    "        \n",
    "    def get_n_clusters(self):\n",
    "        return self.n_clusters\n",
    "    \n",
    "    def get_centroids(self):\n",
    "        return self.centroids\n",
    "    \n",
    "    def get_first_centroids(self):\n",
    "        return self.first_centroids\n",
    "    \n",
    "    def get_n_dim(self):\n",
    "        return self.n_dim\n",
    "    \n",
    "    def fit(self, X_data, breg_div='euclidean', n_iter=10, tol=1e-3):\n",
    "        # begin: initialize the centroids\n",
    "        self.X          = X_data\n",
    "        self.breg_div   = breg_div\n",
    "        self.n_iter     = n_iter\n",
    "        self.n_dim      = X_data.shape[1]\n",
    "        self.centroids  = np.random.uniform(low=np.min(self.X, axis=0), high=np.max(self.X,axis=0),\n",
    "                                            size=(self.n_clusters, self.n_dim))\n",
    "        #self.F_in       = np.zeros(self.n_clusters)\n",
    "        self.labels     = None\n",
    "        print('Begin K-means... ')\n",
    "        self.first_centroids = self.centroids\n",
    "        for i_iter in range(n_iter):\n",
    "            new_centroids = np.zeros_like(self.centroids)\n",
    "            print('Iteraction: %i' %(i_iter+1))\n",
    "            print('Calculating the %s divergence between the data and the centroids...' %(self.breg_div))\n",
    "            if self.breg_div == 'itakura-saito':\n",
    "                dist = distance.cdist(self.X, self.centroids,\n",
    "                                      metric=lambda u, v: ((u/v)-np.log(u/v)-1).sum()) \n",
    "            elif self.breg_div == 'exp':\n",
    "                dist = distance.cdist(self.X[:,:self.n_dim], self.centroids,\n",
    "                                      metric=lambda u, v: (np.exp(u)-np.exp(v)-(u-v)*np.exp(v)).sum())\n",
    "            else:\n",
    "                dist = distance.cdist(self.X, self.centroids, metric=self.breg_div)\n",
    "                \n",
    "            # Classification Step\n",
    "            self.labels = np.argmin(dist, axis=1)\n",
    "            # Renewal Step\n",
    "            for icluster in range(self.centroids.shape[0]):\n",
    "                if self.X[self.labels==icluster].shape[0] != 0:\n",
    "                    new_centroids[icluster] = np.mean(self.X[self.labels==icluster], axis=0)\n",
    "                else:\n",
    "                    new_centroids[icluster] = self.centroids[icluster]\n",
    "            self.centroids = new_centroids"
   ]
  },
  {
   "cell_type": "code",
   "execution_count": 46,
   "metadata": {},
   "outputs": [],
   "source": [
    "sample1 = np.random.uniform(low=(1, 1), high=(2, 2), size=(10, 2))\n",
    "sample2 = np.random.uniform(low=(3, 3), high=(6, 6), size=(10, 2))\n",
    "sample3 = np.random.uniform(low=(7, 7), high=(9, 9), size=(10, 2))\n",
    "sample  = np.concatenate((sample1, sample2, sample3), axis=0)"
   ]
  },
  {
   "cell_type": "code",
   "execution_count": 47,
   "metadata": {},
   "outputs": [
    {
     "data": {
      "text/plain": [
       "(30, 2)"
      ]
     },
     "execution_count": 47,
     "metadata": {},
     "output_type": "execute_result"
    }
   ],
   "source": [
    "sample.shape"
   ]
  },
  {
   "cell_type": "code",
   "execution_count": 48,
   "metadata": {},
   "outputs": [
    {
     "name": "stdout",
     "output_type": "stream",
     "text": [
      "Begin K-means... \n",
      "Iteraction: 1\n",
      "Calculating the itakura-saito divergence between the data and the centroids...\n",
      "Iteraction: 2\n",
      "Calculating the itakura-saito divergence between the data and the centroids...\n",
      "Iteraction: 3\n",
      "Calculating the itakura-saito divergence between the data and the centroids...\n",
      "Iteraction: 4\n",
      "Calculating the itakura-saito divergence between the data and the centroids...\n",
      "Iteraction: 5\n",
      "Calculating the itakura-saito divergence between the data and the centroids...\n",
      "Iteraction: 6\n",
      "Calculating the itakura-saito divergence between the data and the centroids...\n",
      "Iteraction: 7\n",
      "Calculating the itakura-saito divergence between the data and the centroids...\n",
      "Iteraction: 8\n",
      "Calculating the itakura-saito divergence between the data and the centroids...\n",
      "Iteraction: 9\n",
      "Calculating the itakura-saito divergence between the data and the centroids...\n",
      "Iteraction: 10\n",
      "Calculating the itakura-saito divergence between the data and the centroids...\n"
     ]
    }
   ],
   "source": [
    "kmeans=base_kmeans(n_clusters=3)\n",
    "kmeans.fit(sample, breg_div='itakura-saito', n_iter=10)"
   ]
  },
  {
   "cell_type": "code",
   "execution_count": 49,
   "metadata": {},
   "outputs": [
    {
     "data": {
      "text/plain": [
       "array([[7.10860318, 2.79797755],\n",
       "       [7.47387996, 8.11034613],\n",
       "       [8.63711111, 4.3730537 ]])"
      ]
     },
     "execution_count": 49,
     "metadata": {},
     "output_type": "execute_result"
    }
   ],
   "source": [
    "kmeans.get_first_centroids()"
   ]
  },
  {
   "cell_type": "code",
   "execution_count": 50,
   "metadata": {},
   "outputs": [
    {
     "data": {
      "text/plain": [
       "array([[1.32831408, 1.5239574 ],\n",
       "       [7.98524145, 7.67784467],\n",
       "       [4.48608098, 4.47762572]])"
      ]
     },
     "execution_count": 50,
     "metadata": {},
     "output_type": "execute_result"
    }
   ],
   "source": [
    "kmeans.get_centroids()"
   ]
  },
  {
   "cell_type": "code",
   "execution_count": 51,
   "metadata": {},
   "outputs": [
    {
     "data": {
      "image/png": "[encoded data removed]",
      "text/plain": [
       "<Figure size 432x288 with 1 Axes>"
      ]
     },
     "metadata": {
      "needs_background": "light"
     },
     "output_type": "display_data"
    }
   ],
   "source": [
    "plt.plot(sample[:,0], sample[:,1], 'o')\n",
    "plt.plot(kmeans.get_first_centroids()[:,0], kmeans.get_first_centroids()[:,1], '*')\n",
    "plt.plot(kmeans.get_centroids()[:,0], kmeans.get_centroids()[:,1], '^')\n",
    "plt.show()"
   ]
  },
  {
   "cell_type": "code",
   "execution_count": null,
   "metadata": {},
   "outputs": [],
   "source": [
    "clus_sample = np.random.uniform(low=(1, 5), high=(2, 9), size=(3, 2))"
   ]
  },
  {
   "cell_type": "code",
   "execution_count": null,
   "metadata": {},
   "outputs": [],
   "source": [
    "clus_sample"
   ]
  },
  {
   "cell_type": "code",
   "execution_count": null,
   "metadata": {},
   "outputs": [],
   "source": [
    "dist = distance.cdist(sample, clus_sample, metric=lambda u, v: ((u/v)-np.log(u/v)-1).sum())"
   ]
  },
  {
   "cell_type": "code",
   "execution_count": null,
   "metadata": {},
   "outputs": [],
   "source": [
    "dist"
   ]
  },
  {
   "cell_type": "code",
   "execution_count": null,
   "metadata": {},
   "outputs": [],
   "source": [
    "label = np.argmin(dist, axis=1)\n",
    "label"
   ]
  },
  {
   "cell_type": "code",
   "execution_count": null,
   "metadata": {},
   "outputs": [],
   "source": [
    "idx = np.argwhere(label==2)\n",
    "idx"
   ]
  },
  {
   "cell_type": "code",
   "execution_count": null,
   "metadata": {},
   "outputs": [],
   "source": [
    "print(np.mean(sample[label==1],axis=0))"
   ]
  },
  {
   "cell_type": "code",
   "execution_count": null,
   "metadata": {},
   "outputs": [],
   "source": [
    "print(sample[label==2])\n",
    "print(sample)"
   ]
  },
  {
   "cell_type": "code",
   "execution_count": null,
   "metadata": {},
   "outputs": [],
   "source": [
    "new_clust = np.zeros_like(clus_sample)\n",
    "for i in range(clus_sample.shape[0]):\n",
    "    print(i)\n",
    "    print(distance.cdist(sample[label==i], clus_sample[i,:][np.newaxis],\n",
    "                                                                      metric=lambda u, v: ((u/v)-np.log(u/v)-1).sum()))\n",
    "    print('Fin: %1.3f' %(np.sum(distance.cdist(sample[label==i], clus_sample[i,:][np.newaxis],\n",
    "                                                                      metric=lambda u, v: ((u/v)-np.log(u/v)-1).sum()))))\n",
    "    new_clust[i,:] = np.mean(sample[label==i], axis=0)\n",
    "print(new_clust)"
   ]
  },
  {
   "cell_type": "code",
   "execution_count": null,
   "metadata": {},
   "outputs": [],
   "source": [
    "distance.cdist(new_clust, clus_sample,\n",
    "               metric=lambda u, v: ((u/v)-np.log(u/v)-1).sum())"
   ]
  },
  {
   "cell_type": "code",
   "execution_count": null,
   "metadata": {},
   "outputs": [],
   "source": [
    "new_clust, clus_sample"
   ]
  },
  {
   "cell_type": "code",
   "execution_count": null,
   "metadata": {},
   "outputs": [],
   "source": [
    "np.linalg.det(np.cov(sample, clus_sample))"
   ]
  },
  {
   "cell_type": "code",
   "execution_count": null,
   "metadata": {},
   "outputs": [],
   "source": []
  },
  {
   "cell_type": "code",
   "execution_count": null,
   "metadata": {},
   "outputs": [],
   "source": [
    "np.argmin(dist, axis=1)"
   ]
  },
  {
   "cell_type": "code",
   "execution_count": null,
   "metadata": {},
   "outputs": [],
   "source": []
  },
  {
   "cell_type": "code",
   "execution_count": null,
   "metadata": {},
   "outputs": [],
   "source": [
    "distance.euclidean(sample, clus_sample)#, np.linalg.inv(np.cov(sample, clus_sample)))"
   ]
  },
  {
   "cell_type": "code",
   "execution_count": null,
   "metadata": {},
   "outputs": [],
   "source": [
    "def my_dist(x, y):\n",
    "    return lambda u, v: np.sqrt(((u-v)**2).sum())"
   ]
  },
  {
   "cell_type": "code",
   "execution_count": null,
   "metadata": {},
   "outputs": [],
   "source": [
    "distance.cdist(sample, clus_sample, lambda u, v: np.sqrt(((u-v)**2).sum()))"
   ]
  },
  {
   "cell_type": "code",
   "execution_count": null,
   "metadata": {},
   "outputs": [],
   "source": []
  },
  {
   "cell_type": "code",
   "execution_count": null,
   "metadata": {},
   "outputs": [],
   "source": [
    "sample"
   ]
  },
  {
   "cell_type": "code",
   "execution_count": null,
   "metadata": {},
   "outputs": [],
   "source": [
    "kmeans=base_kmeans(n_clusters=3)\n",
    "kmeans.fit(X_data=sample, breg_div='itakura-saito')"
   ]
  },
  {
   "cell_type": "code",
   "execution_count": null,
   "metadata": {},
   "outputs": [],
   "source": [
    "distance.cdist(sample[:,:2], sample[:,:2], metric=lambda u, v: ((u/v)-np.log(u/v)-1).sum())"
   ]
  },
  {
   "cell_type": "code",
   "execution_count": null,
   "metadata": {},
   "outputs": [],
   "source": []
  },
  {
   "cell_type": "code",
   "execution_count": null,
   "metadata": {},
   "outputs": [],
   "source": [
    "dist = distance.cdist(sample, clus_sample, metric=lambda u, v: ((u/v)-np.log(u/v)-1).sum())\n",
    "print(dist)"
   ]
  },
  {
   "cell_type": "code",
   "execution_count": null,
   "metadata": {},
   "outputs": [],
   "source": [
    "label = np.argmin(dist, axis=1)\n",
    "label"
   ]
  },
  {
   "cell_type": "code",
   "execution_count": null,
   "metadata": {},
   "outputs": [],
   "source": [
    "label[:,np.newaxis].shape"
   ]
  },
  {
   "cell_type": "code",
   "execution_count": null,
   "metadata": {},
   "outputs": [],
   "source": [
    "sample.shape"
   ]
  },
  {
   "cell_type": "code",
   "execution_count": null,
   "metadata": {},
   "outputs": [],
   "source": [
    "sample = np.concatenate((sample, label[:,np.newaxis]), axis=1)"
   ]
  },
  {
   "cell_type": "code",
   "execution_count": null,
   "metadata": {},
   "outputs": [],
   "source": [
    "clus_sample.shape"
   ]
  },
  {
   "cell_type": "code",
   "execution_count": null,
   "metadata": {},
   "outputs": [],
   "source": [
    "sample[:,:2]"
   ]
  },
  {
   "cell_type": "code",
   "execution_count": null,
   "metadata": {},
   "outputs": [],
   "source": [
    "sample[:,2]"
   ]
  },
  {
   "cell_type": "code",
   "execution_count": null,
   "metadata": {},
   "outputs": [],
   "source": [
    "clus_sample[:,i][np.newaxis].shape"
   ]
  },
  {
   "cell_type": "code",
   "execution_count": null,
   "metadata": {},
   "outputs": [],
   "source": []
  },
  {
   "cell_type": "code",
   "execution_count": null,
   "metadata": {},
   "outputs": [],
   "source": [
    "kmeans = base_kmeans(n_clusters=3)"
   ]
  },
  {
   "cell_type": "code",
   "execution_count": null,
   "metadata": {},
   "outputs": [],
   "source": []
  },
  {
   "cell_type": "code",
   "execution_count": null,
   "metadata": {},
   "outputs": [],
   "source": [
    "kmeans.fit(X_data=sample, breg_div='itakura-saito')"
   ]
  },
  {
   "cell_type": "code",
   "execution_count": null,
   "metadata": {},
   "outputs": [],
   "source": []
  }
 ],
 "metadata": {
  "kernelspec": {
   "display_name": "Python 3",
   "language": "python",
   "name": "python3"
  },
  "language_info": {
   "codemirror_mode": {
    "name": "ipython",
    "version": 3
   },
   "file_extension": ".py",
   "mimetype": "text/x-python",
   "name": "python",
   "nbconvert_exporter": "python",
   "pygments_lexer": "ipython3",
   "version": "3.7.5"
  }
 },
 "nbformat": 4,
 "nbformat_minor": 4
}

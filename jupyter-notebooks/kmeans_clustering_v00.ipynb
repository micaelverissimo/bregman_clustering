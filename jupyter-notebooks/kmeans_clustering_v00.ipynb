{
 "cells": [
  {
   "cell_type": "markdown",
   "metadata": {},
   "source": [
    "# Information Geometry\n",
    "\n",
    "Author: Micael Veríssimo de Araújo (micael.verissimo@lps.ufrj.br)"
   ]
  },
  {
   "cell_type": "code",
   "execution_count": null,
   "metadata": {},
   "outputs": [],
   "source": [
    "import numpy as np\n",
    "import pandas as pd\n",
    "import matplotlib.pyplot as plt \n",
    "from mpl_toolkits.mplot3d import Axes3D\n",
    "import seaborn as sns\n",
    "\n",
    "from sklearn.cluster import KMeans\n",
    "\n",
    "# #------------------------------------------------------------------------------\n",
    "# # accept a dataframe, remove outliers, return cleaned data in a new dataframe\n",
    "# # see http://www.itl.nist.gov/div898/handbook/prc/section1/prc16.htm\n",
    "# #------------------------------------------------------------------------------\n",
    "# def remove_outlier(df_in, col_name):\n",
    "#     q1 = df_in[col_name].quantile(0.25)\n",
    "#     q3 = df_in[col_name].quantile(0.75)\n",
    "#     iqr = q3-q1 #Interquartile range\n",
    "#     fence_low  = q1-1.5*iqr\n",
    "#     fence_high = q3+1.5*iqr\n",
    "#     df_out = df_in.loc[(df_in[col_name] > fence_low) & (df_in[col_name] < fence_high)]\n",
    "#     return df_out"
   ]
  },
  {
   "cell_type": "code",
   "execution_count": null,
   "metadata": {},
   "outputs": [],
   "source": [
    "data_files_path = '../data_files/data17_13TeV.AllPeriods.sgn.probes_lhmedium_EGAM2.bkg.VProbes_EGAM7.GRL_v97/'\n",
    "file_name       = 'data17_13TeV.AllPeriods.sgn.probes_lhmedium_EGAM2.bkg.VProbes_EGAM7.GRL_v97_et0_eta0.npz'\n",
    "\n",
    "plots_path      = '../plots_clusterizacao/'\n",
    "my_seed         = 13"
   ]
  },
  {
   "cell_type": "code",
   "execution_count": null,
   "metadata": {},
   "outputs": [],
   "source": [
    "jpsi_data = dict(np.load(data_files_path+file_name))\n",
    "jpsi_data.keys()"
   ]
  },
  {
   "cell_type": "markdown",
   "metadata": {},
   "source": [
    "As variáveis presentes neste data set são:"
   ]
  },
  {
   "cell_type": "code",
   "execution_count": null,
   "metadata": {},
   "outputs": [],
   "source": [
    "list_of_features = list(jpsi_data['features'])\n",
    "print(list_of_features)"
   ]
  },
  {
   "cell_type": "markdown",
   "metadata": {},
   "source": [
    "Para o processo de clusterização serão utilizadas $2$ variáveis: $\\langle \\mu \\rangle$ e $E_T$."
   ]
  },
  {
   "cell_type": "code",
   "execution_count": null,
   "metadata": {},
   "outputs": [],
   "source": [
    "var_indexes = [list_of_features.index('avgmu'),\n",
    "               list_of_features.index('L2Calo_et'),]#+list(range(list_of_features.index('L2Calo_ring_0'), list_of_features.index('L2Calo_ring_99')))\n",
    "               #list_of_features.index('et'),] \n",
    "               #list_of_features.index('phi')]# + list(range(list_of_features.index('L2Calo_ring_88'), list_of_features.index('L2Calo_ring_99')))"
   ]
  },
  {
   "cell_type": "code",
   "execution_count": null,
   "metadata": {},
   "outputs": [],
   "source": [
    "print(var_indexes)"
   ]
  },
  {
   "cell_type": "code",
   "execution_count": null,
   "metadata": {},
   "outputs": [],
   "source": [
    "data_      = jpsi_data['data'][:, var_indexes]\n",
    "mu_filter  = data_[:,0] <= 60\n",
    "sgn_filter = jpsi_data['target'][mu_filter]==1\n",
    "bkg_filter = jpsi_data['target'][mu_filter]==0\n",
    "data_      = data_[mu_filter,:]\n",
    "print(data_.shape)"
   ]
  },
  {
   "cell_type": "code",
   "execution_count": null,
   "metadata": {},
   "outputs": [],
   "source": [
    "# fig = plt.figure(figsize=(10,8))\n",
    "# ax = fig.add_subplot(111, projection='3d')\n",
    "# ax.scatter(data_[:,0], data_[:,1], data_[:,2], s=10, alpha=0.6, edgecolors='w')\n",
    "# #ax.scatter(np.sum(bkg_data[:,1:], axis=1), bkg_data[:,0], s=10, alpha=0.6, edgecolors='w')\n",
    "\n",
    "# #ax.set_xlabel(r'$E_{T_{HAD}}$')\n",
    "# ax.set_ylabel(r'$E_T$')\n",
    "# ax.set_zlabel(r'$\\eta$')\n",
    "# ax.set_xlabel(r'$\\langle\\mu\\rangle$')\n",
    "\n",
    "# plt.show()"
   ]
  },
  {
   "cell_type": "code",
   "execution_count": null,
   "metadata": {},
   "outputs": [],
   "source": [
    "sgn_choices_filter = np.random.choice(data_[sgn_filter].shape[0], size=300)\n",
    "bkg_choices_filter = np.random.choice(data_[bkg_filter].shape[0], size=300)\n",
    "choices_filter     = np.concatenate((sgn_choices_filter,bkg_choices_filter))"
   ]
  },
  {
   "cell_type": "code",
   "execution_count": null,
   "metadata": {},
   "outputs": [],
   "source": [
    "data_ = data_[choices_filter,:]\n",
    "y     = jpsi_data['target'][choices_filter]\n",
    "print(data_.shape)"
   ]
  },
  {
   "cell_type": "markdown",
   "metadata": {},
   "source": [
    "## Clusterização Utilizando Divergências de Bregman\n",
    "\n",
    "As divergências de Bregman são divergências da forma\n",
    "\n",
    "**Definição** (Bregman, 1967; Censor and Zenios, 1998) Seja $\\phi : S \\to \\mathbb{R}$, $S = \\text{dom}(\\phi)$ uma função estritamente convexa definida em um conjunto convexo $S \\subset \\mathbb{R}^d$ tal que $\\phi$ é diferenciável em seu interior relativo $(\\text{ri}(S))$, assumindo $\\text{ri}(S)$ não vazio. A divergência de Bregman $D_{\\phi} : S\\times \\text{ri}(S) \\to [0,\\infty)$ é definida como:\n",
    "\n",
    "$$D_{\\phi}(x,y) = \\phi(x) - \\phi(y) - \\langle x-y, \\nabla\\phi(y)\\rangle$$"
   ]
  },
  {
   "cell_type": "markdown",
   "metadata": {},
   "source": [
    "<img src=\"../misc/bregman_divs_table.png\"  style=\"width: 20cm;\"/>"
   ]
  },
  {
   "cell_type": "markdown",
   "metadata": {},
   "source": [
    "# Usando Ringer"
   ]
  },
  {
   "cell_type": "code",
   "execution_count": null,
   "metadata": {},
   "outputs": [],
   "source": [
    "km = KMeans(n_clusters = 3, n_jobs = 4, random_state=my_seed)\n",
    "km.fit(data_)"
   ]
  },
  {
   "cell_type": "code",
   "execution_count": null,
   "metadata": {},
   "outputs": [],
   "source": [
    "centers = km.cluster_centers_\n",
    "print(centers)"
   ]
  },
  {
   "cell_type": "code",
   "execution_count": null,
   "metadata": {},
   "outputs": [],
   "source": [
    "# fig = plt.figure(figsize=(15,9))\n",
    "# ax = fig.add_subplot(111, projection='3d')\n",
    "# ax.scatter(centers[:,0], centers[:,1], centers[:,2], s=100, alpha=.9, edgecolors='w')\n",
    "\n",
    "# ax.set_ylabel(r'$E_{T}$', fontsize=15)\n",
    "# ax.set_zlabel(r'$\\eta$', fontsize=15)\n",
    "# ax.set_xlabel(r'$\\langle\\mu\\rangle$', fontsize=15)\n",
    "\n",
    "# plt.show()"
   ]
  },
  {
   "cell_type": "code",
   "execution_count": null,
   "metadata": {},
   "outputs": [],
   "source": [
    "plt.plot(centers[:, 0], centers[:, 1], '*')\n",
    "plt.xlabel(r'$\\langle\\mu\\rangle$', fontsize=15)\n",
    "plt.ylabel(r'$E_T$', fontsize=15)\n",
    "plt.show()"
   ]
  },
  {
   "cell_type": "code",
   "execution_count": null,
   "metadata": {},
   "outputs": [],
   "source": [
    "# #this will tell us to which cluster does the data observations belong.\n",
    "# new_labels = km.labels_\n",
    "# # Plot the identified clusters and compare with the answers\n",
    "# # set up a figure twice as wide as it is tall\n",
    "# fig = plt.figure(figsize=(10,8))\n",
    "\n",
    "# #===============\n",
    "# #  First subplot\n",
    "# #===============\n",
    "# # set up the axes for the first plot\n",
    "# ax1 = fig.add_subplot(1, 2, 1, projection='3d')\n",
    "# #===============\n",
    "# # Second subplot\n",
    "# #===============\n",
    "# # set up the axes for the second plot\n",
    "# ax2 = fig.add_subplot(1, 2, 2, projection='3d')\n",
    "\n",
    "# #fig, axes = plt.subplots(1, 2, figsize=(16,8), projection='3d')\n",
    "# ax1.scatter(data_[:, 0], data_[:, 1], data_[:,2], c=y, cmap='gist_rainbow',\n",
    "# edgecolor='k', s=50, alpha=.2)\n",
    "# ax2.scatter(data_[:, 0], data_[:, 1], data_[:,2], c=new_labels, cmap='jet',\n",
    "# edgecolor='k', s=50, alpha=.2)\n",
    "# ax1.set_xlabel(r'$\\langle\\mu\\rangle$', fontsize=18)\n",
    "# ax1.set_ylabel(r'$E_T$', fontsize=18)\n",
    "# ax1.set_ylabel(r'$\\eta$', fontsize=18)\n",
    "# ax2.set_xlabel(r'$\\langle\\mu\\rangle$', fontsize=18)\n",
    "# ax2.set_ylabel(r'$E_T$', fontsize=18)\n",
    "# ax2.set_ylabel(r'$\\eta$', fontsize=18)\n",
    "# ax1.tick_params(direction='in', length=10, width=5, colors='k', labelsize=20)\n",
    "# ax2.tick_params(direction='in', length=10, width=5, colors='k', labelsize=20)\n",
    "# ax1.set_title('Actual', fontsize=18)\n",
    "# ax2.set_title('Predicted', fontsize=18)"
   ]
  },
  {
   "cell_type": "code",
   "execution_count": null,
   "metadata": {},
   "outputs": [],
   "source": [
    "#this will tell us to which cluster does the data observations belong.\n",
    "new_labels = km.labels_\n",
    "# Plot the identified clusters and compare with the answers\n",
    "fig, axes = plt.subplots(1, 2, figsize=(16,8))\n",
    "scarter = axes[0].scatter(data_[:, 0], data_[:, 1], c=y, cmap='inferno',\n",
    "edgecolor='k', s=50, alpha=.7)\n",
    "axes[0].legend(*scarter.legend_elements(),\n",
    "                    loc=\"best\", title=\"Classes\", fontsize='x-large')\n",
    "\n",
    "scarter1 = axes[1].scatter(data_[:, 0], data_[:, 1], c=new_labels, cmap='jet',\n",
    "edgecolor='k', s=50, alpha=.2)\n",
    "axes[1].legend(*scarter1.legend_elements(),\n",
    "                    loc=\"best\", title=\"Clusters\", fontsize='x-large')\n",
    "\n",
    "axes[0].set_xlabel(r'$\\langle\\mu\\rangle$', fontsize=18)\n",
    "axes[0].set_ylabel(r'$E_T$', fontsize=18)\n",
    "axes[1].set_xlabel(r'$\\langle\\mu\\rangle$', fontsize=18)\n",
    "axes[1].set_ylabel(r'$E_T$', fontsize=18)\n",
    "axes[0].tick_params(direction='in', length=10, width=5, colors='k', labelsize=20)\n",
    "axes[1].tick_params(direction='in', length=10, width=5, colors='k', labelsize=20)\n",
    "axes[0].set_title('Actual', fontsize=18)\n",
    "axes[1].set_title('Predicted', fontsize=18)"
   ]
  },
  {
   "cell_type": "code",
   "execution_count": null,
   "metadata": {},
   "outputs": [],
   "source": [
    "plt.figure(figsize=(10,8))\n",
    "plt.plot(data_[:, 0], data_[:, 1], 'o')\n",
    "plt.xlabel(r'$\\langle\\mu\\rangle$', fontsize=15)\n",
    "plt.ylabel(r'$E_T$', fontsize=15)\n",
    "plt.show()"
   ]
  },
  {
   "cell_type": "code",
   "execution_count": null,
   "metadata": {},
   "outputs": [],
   "source": [
    "from scipy import stats"
   ]
  },
  {
   "cell_type": "code",
   "execution_count": null,
   "metadata": {},
   "outputs": [],
   "source": [
    "a = stats.zscore(data_[:,0])\n",
    "plt.figure(figsize=(10,8))\n",
    "plt.hist(a, bins=50)\n",
    "plt.yscale('log')\n",
    "#plt.hist(sgn_data[:,0], bins=30)\n",
    "plt.show()"
   ]
  },
  {
   "cell_type": "code",
   "execution_count": null,
   "metadata": {},
   "outputs": [],
   "source": [
    "plt.figure(figsize=(10,8))\n",
    "plt.hist(data_[:,0], bins='sqrt')\n",
    "#plt.hist(sgn_data[:,0], bins=30)\n",
    "plt.show()"
   ]
  },
  {
   "cell_type": "code",
   "execution_count": null,
   "metadata": {},
   "outputs": [],
   "source": [
    "fig = plt.figure(figsize=(10,8))\n",
    "ax = fig.add_subplot(111)#, projection='3d')\n",
    "ax.scatter(data_[:,1], data_[:,0], s=10, alpha=0.6, edgecolors='w')\n",
    "#ax.scatter(np.sum(bkg_data[:,1:], axis=1), bkg_data[:,0], s=10, alpha=0.6, edgecolors='w')\n",
    "\n",
    "ax.set_xlabel(r'$E_{T_{HAD}}$')\n",
    "ax.set_ylabel(r'$\\eta$')\n",
    "#ax.set_zlabel(r'$\\langle\\mu\\rangle$')\n",
    "\n",
    "plt.show()"
   ]
  },
  {
   "cell_type": "code",
   "execution_count": null,
   "metadata": {},
   "outputs": [],
   "source": []
  },
  {
   "cell_type": "code",
   "execution_count": null,
   "metadata": {},
   "outputs": [],
   "source": []
  },
  {
   "cell_type": "code",
   "execution_count": null,
   "metadata": {},
   "outputs": [],
   "source": []
  }
 ],
 "metadata": {
  "kernelspec": {
   "display_name": "Python 3",
   "language": "python",
   "name": "python3"
  },
  "language_info": {
   "codemirror_mode": {
    "name": "ipython",
    "version": 3
   },
   "file_extension": ".py",
   "mimetype": "text/x-python",
   "name": "python",
   "nbconvert_exporter": "python",
   "pygments_lexer": "ipython3",
   "version": "3.7.5"
  }
 },
 "nbformat": 4,
 "nbformat_minor": 4
}
